{
 "cells": [
  {
   "cell_type": "code",
   "execution_count": 2,
   "metadata": {},
   "outputs": [
    {
     "name": "stdout",
     "output_type": "stream",
     "text": [
      "{'Ведьмы': [['18:40', '420 р.'], ['20:55', '420 р.'], ['23:10', '420 р.']], 'Проклятие монахини Роуз': [['21:05', '420 р.'], ['23:05', '420 р.']], 'Трое': [['18:30', '420 р.'], ['22:40', '420 р.']], 'Взаперти': [['21:10', '250 р.'], ['23:00', '250 р.']], 'Искусственный интеллект': [['19:20', '420 р.'], ['23:45', '420 р.']], 'Довод': [['19:50', '420 р.'], ['22:50', '420 р.']], 'Грань времени': [['21:35', '420 р.']], 'Ширли': [['18:25', '420 р.']], 'Сумасшедшая любовь': [['18:00', '420 р.']], 'Пункт назначения. Аквапарк': [['23:15', '250 р.']], 'Избави нас от лукавого.': [['20:20', '420 р.']], 'Непосредственно Каха': [['19:25', '420 р.']], 'Илиана. Верь мне': [['22:35', '420 р.']], 'Преступить черту': [['20:00', '420 р.']], 'На острие': [['20:40', '420 р.']], 'Криминальные боссы': [['22:10', '420 р.']], 'Комета Галлея': [['19:00', '420 р.']], 'Афера по-голливудски': [['20:30', '420 р.']], 'Еще по одной': [['21:40', '420 р.']], 'Необыкновенная история на Рождество': [['18:15', '250 р.']]}\n"
     ]
    }
   ],
   "source": [
    "import requests\n",
    "from bs4 import BeautifulSoup\n",
    "page = requests.get('https://kinoteatr.ru/raspisanie-kinoteatrov/belaya-dacha/') \n",
    "new_page = BeautifulSoup(page.text, 'lxml') \n",
    "films = new_page.findAll('div',class_='shedule_movie')\n",
    "films_dict = {}\n",
    "for film in films: \n",
    "    name_film = film.find('span', class_='movie_card_header').text.strip()\n",
    "    time_film_tmp = film.findAll('a', class_='shedule_session')\n",
    "    out = []\n",
    "    for i in time_film_tmp:\n",
    "        time_film = i.find('span', class_='shedule_session_time').text.strip()\n",
    "        price_film = i.find('span', class_='shedule_session_price').text.strip()\n",
    "        out.append([time_film, price_film])\n",
    "    films_dict[str(name_film)] = []\n",
    "    films_dict[str(name_film)] = out\n",
    "print( films_dict )\n"
   ]
  },
  {
   "cell_type": "code",
   "execution_count": null,
   "metadata": {},
   "outputs": [],
   "source": []
  }
 ],
 "metadata": {
  "kernelspec": {
   "display_name": "Python 3",
   "language": "python",
   "name": "python3"
  },
  "language_info": {
   "codemirror_mode": {
    "name": "ipython",
    "version": 3
   },
   "file_extension": ".py",
   "mimetype": "text/x-python",
   "name": "python",
   "nbconvert_exporter": "python",
   "pygments_lexer": "ipython3",
   "version": "3.8.3"
  }
 },
 "nbformat": 4,
 "nbformat_minor": 4
}
