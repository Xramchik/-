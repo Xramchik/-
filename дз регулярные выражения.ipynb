{
 "cells": [
  {
   "cell_type": "markdown",
   "metadata": {},
   "source": [
    "# Регулярные выражения. Задания"
   ]
  },
  {
   "cell_type": "markdown",
   "metadata": {},
   "source": [
    "1) Дана строка 'aaa--bbb==ccc__ddd'. Написать регулярное выражение для разбивки строки на список ['aaa','bbb','ccc','ddd']."
   ]
  },
  {
   "cell_type": "code",
   "execution_count": 9,
   "metadata": {},
   "outputs": [],
   "source": [
    "import re"
   ]
  },
  {
   "cell_type": "code",
   "execution_count": 25,
   "metadata": {},
   "outputs": [
    {
     "data": {
      "text/plain": [
       "['aaa', 'bbb', 'ccc', 'ddd']"
      ]
     },
     "execution_count": 25,
     "metadata": {},
     "output_type": "execute_result"
    }
   ],
   "source": [
    "p = re.compile(r'[abcd]{3}')\n",
    "p.findall('aaa--bbb==ccc__ddd')\n"
   ]
  },
  {
   "cell_type": "markdown",
   "metadata": {},
   "source": [
    "2) Получить первое слово из произвольной строки. Например, для 'Yesterday, All my troubles seemed so far away' должно возвращаться 'Yesterday'."
   ]
  },
  {
   "cell_type": "code",
   "execution_count": 4,
   "metadata": {},
   "outputs": [
    {
     "data": {
      "text/plain": [
       "'Yesterday'"
      ]
     },
     "execution_count": 4,
     "metadata": {},
     "output_type": "execute_result"
    }
   ],
   "source": [
    "import re\n",
    "string = ('Yesterday, All my troubles seemed so far away')\n",
    "p = re.compile(r'^[a-zA-Z]+\\b')\n",
    "p.match(string).group()\n"
   ]
  },
  {
   "cell_type": "markdown",
   "metadata": {},
   "source": [
    "3) Получить последнее слово из произвольной строки."
   ]
  },
  {
   "cell_type": "code",
   "execution_count": 9,
   "metadata": {},
   "outputs": [
    {
     "data": {
      "text/plain": [
       "['away']"
      ]
     },
     "execution_count": 9,
     "metadata": {},
     "output_type": "execute_result"
    }
   ],
   "source": [
    "import re\n",
    "string = ('Yesterday, All my troubles seemed so far away')\n",
    "p = re.compile(r'[a-zA-Z]+\\b$')\n",
    "p.findall('Yesterday, All my troubles seemed so far away')\n"
   ]
  },
  {
   "cell_type": "markdown",
   "metadata": {},
   "source": [
    "4) В следующем отрывке найти все слова, которые начинаются на гласную букву:"
   ]
  },
  {
   "cell_type": "code",
   "execution_count": 6,
   "metadata": {},
   "outputs": [
    {
     "data": {
      "text/plain": [
       "['uncle',\n",
       " 'ideals',\n",
       " 'inspire',\n",
       " 'one',\n",
       " 'admire',\n",
       " 'and',\n",
       " 'a',\n",
       " 'others',\n",
       " 'example',\n",
       " 'attendance',\n",
       " 'and',\n",
       " 'and',\n",
       " 'a',\n",
       " 'away']"
      ]
     },
     "execution_count": 6,
     "metadata": {},
     "output_type": "execute_result"
    }
   ],
   "source": [
    "s= '''My uncle -- high ideals inspire him;\n",
    "but when past joking he fell sick,\n",
    "he really forced one to admire him --\n",
    "and never played a shrewder trick.\n",
    "Let others learn from his example!\n",
    "But God, how deadly dull to sample\n",
    "sickroom attendance night and day\n",
    "and never stir a foot away!'''\n",
    "p = re.compile(r'\\b[aeiouyAEUYOI]+[A-Za-z]{0,}\\b')\n",
    "p.findall(s)\n"
   ]
  },
  {
   "cell_type": "markdown",
   "metadata": {},
   "source": [
    "5) В этом же отрывке найти первое слово каждой строки"
   ]
  },
  {
   "cell_type": "code",
   "execution_count": 17,
   "metadata": {},
   "outputs": [
    {
     "data": {
      "text/plain": [
       "['My', 'but', 'he', 'and', 'Let', 'But', 'sickroom', 'and']"
      ]
     },
     "execution_count": 17,
     "metadata": {},
     "output_type": "execute_result"
    }
   ],
   "source": [
    "s = '''My uncle -- high ideals inspire him;\n",
    "but when past joking he fell sick,\n",
    "he really forced one to admire him --\n",
    "and never played a shrewder trick.\n",
    "Let others learn from his example!\n",
    "But God, how deadly dull to sample\n",
    "sickroom attendance night and day\n",
    "and never stir a foot away!'''\n",
    "p = re.compile(r'^[a-zA-Z]+\\b', re.M)\n",
    "p.findall(s)"
   ]
  },
  {
   "cell_type": "markdown",
   "metadata": {},
   "source": [
    "6) Проверить корректность введенного E-mail"
   ]
  },
  {
   "cell_type": "code",
   "execution_count": 16,
   "metadata": {},
   "outputs": [
    {
     "data": {
      "text/plain": [
       "['khrramtsov_maksimka@mail.ru', 'dmilovanov@fa.ru']"
      ]
     },
     "execution_count": 16,
     "metadata": {},
     "output_type": "execute_result"
    }
   ],
   "source": [
    "import re\n",
    "pattern = re.compile(r'^[a-zA-Z]+[a-zA-Z0-9_\\-.]*[@][a-zA-Z]{2,10}[.][a-zA-Z]{2,5}$')\n",
    "lst = ['khrramtsov_maksimka@mail.ru',\n",
    "      'dmilovanov@fa.ru',\n",
    "      '2345sdf.ru']\n",
    "lst_final = []\n",
    "for i in lst:\n",
    "    lst_final.extend(pattern.findall(i))\n",
    "lst_final"
   ]
  },
  {
   "cell_type": "markdown",
   "metadata": {},
   "source": [
    "7) В следующей строке найти все email-адреса и вывести только доменные имена"
   ]
  },
  {
   "cell_type": "code",
   "execution_count": 18,
   "metadata": {},
   "outputs": [
    {
     "data": {
      "text/plain": [
       "['@mail', '@fa']"
      ]
     },
     "execution_count": 18,
     "metadata": {},
     "output_type": "execute_result"
    }
   ],
   "source": [
    "import re\n",
    "pattern = re.compile(r'^[a-zA-Z]+[a-zA-Z0-9_\\-.]*([@][a-zA-Z]{2,10})[.][a-zA-Z]{2,5}$')\n",
    "lst = ['khrramtsov_maksimka@mail.ru',\n",
    "      'dmilovanov@fa.ru',\n",
    "      '2345sdf.ru']\n",
    "lst_final = []\n",
    "for i in lst:\n",
    "    lst_final.extend(pattern.findall(i))\n",
    "lst_final"
   ]
  },
  {
   "cell_type": "markdown",
   "metadata": {},
   "source": [
    "8) Проверить корректность введенного номера мобильного телефона. Корректными считаются: <br>\n",
    "+7(999)999-99-99  <br>\n",
    "+7 (999) 999-99-99  <br>\n",
    "+7 999 999-99-99 <br>\n",
    "+7 999 999 99 99 <br>\n",
    "+79999999999"
   ]
  },
  {
   "cell_type": "code",
   "execution_count": 27,
   "metadata": {},
   "outputs": [
    {
     "name": "stdout",
     "output_type": "stream",
     "text": [
      "['+7(999)999-99-99']\n",
      "['+7 (999) 999-99-99']\n",
      "['+7 999 999-99-99']\n",
      "['+7 999 999 99 99']\n",
      "['+79999999999']\n"
     ]
    }
   ],
   "source": [
    "s = re.compile(r'''^\\+7\n",
    "(?:(?:[ ][(][0-9]{3}[)][ ])|(?:[(][0-9]{3}[)])|(?:[ ][0-9]{3}[ ])|(?:[0-9]{3}))\n",
    "[0-9]{3}\n",
    "(?:(?:[\\-][0-9]{2}[\\-])|(?:[ ][0-9]{2}[ ])|(?:[0-9]{2}))[0-9]{2}$  ''', re.X)\n",
    "lst = [\n",
    "       \"+7(999)999-99-99\",\n",
    "\"+7 (999) 999-99-99\",\n",
    "    \"+7 999 999-99-99\",\n",
    "\"+7 999 999 99 99\",\n",
    "\"+79999999999\"\n",
    "    ]  \n",
    "    \n",
    "for i in lst:\n",
    "    print(s.findall(i))\n",
    "               \n",
    "               \n",
    "               \n",
    "           "
   ]
  },
  {
   "cell_type": "code",
   "execution_count": null,
   "metadata": {},
   "outputs": [],
   "source": []
  },
  {
   "cell_type": "code",
   "execution_count": null,
   "metadata": {},
   "outputs": [],
   "source": []
  }
 ],
 "metadata": {
  "kernelspec": {
   "display_name": "Python 3",
   "language": "python",
   "name": "python3"
  },
  "language_info": {
   "codemirror_mode": {
    "name": "ipython",
    "version": 3
   },
   "file_extension": ".py",
   "mimetype": "text/x-python",
   "name": "python",
   "nbconvert_exporter": "python",
   "pygments_lexer": "ipython3",
   "version": "3.8.3"
  }
 },
 "nbformat": 4,
 "nbformat_minor": 2
}
