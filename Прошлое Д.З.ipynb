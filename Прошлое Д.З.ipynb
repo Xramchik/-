{
 "cells": [
  {
   "cell_type": "code",
   "execution_count": null,
   "metadata": {},
   "outputs": [],
   "source": [
    "import json\n",
    "import csv\n",
    "\n",
    "\n",
    "\n",
    "\n",
    "# 1) Необходимо прочитать файл cinema.json, используя библиотеку json. https://docs.python.org/3/library/json.html\n",
    "# Создать новые файлы cinema2.json и cinema2.csv, в которых для каждого кинотеатра будут отображены только следующие поля из исходного файла:\n",
    "# ID, Краткое наименование (CommonName), Адрес (текстовой строкой, только улица-дом, без индекса и района), Сайт, Рабочие часы по дням недели (в формате словаря \"День недели: часы работы\"), Долгота, Широта.\n",
    "def json_to_csv_and_json():\n",
    "    try:\n",
    "        json_data = json.loads(open('cinema.json', 'r', encoding='cp1251').read())\n",
    "    except:\n",
    "        print(\"Ошибка открытия файла\")\n",
    "    out = []\n",
    "    for i in json_data:\n",
    "        id_json = i['global_id']\n",
    "        common_name = i['CommonName']\n",
    "        address = i['ObjectAddress'][0]['Address']\n",
    "        site = i['WebSite']\n",
    "        WorkHours = {}\n",
    "        for wh in i['WorkingHours']:\n",
    "            WorkHours[str(wh['DayWeek'])] = str(wh['WorkHours'])\n",
    "        lon = i['geoData']['coordinates'][0][0]\n",
    "        lat = i['geoData']['coordinates'][0][1]\n",
    "        out.append([str(id_json), str(common_name), str(address), str(site), str(WorkHours), str(lat), str(lon)])\n",
    "    json.dump(out, open('cinema2.json', 'w'), ensure_ascii=False)\n",
    "    with open('cinema2.csv', 'w',newline='') as csvfile:\n",
    "        spamwriter = csv.writer(csvfile, delimiter=';')\n",
    "        for i in out:\n",
    "            spamwriter.writerow(i)\n",
    "    return out\n",
    "\n",
    "json_to_csv_and_json()\n",
    "\n",
    "# 2) Присутствуют два csv-файла. В одном ID и координаты узлов графа (points.csv), в другом - координаты ребер графа, полученные с географической карты (polylines.csv).\n",
    "# Необходимо к координатам из ребер графа привязать соответствующие им узлы графа (смотреть по близости их координат) и создать csv файл с полями \"ID начального узла ребра\" и \"ID конечного узла ребра\".\n",
    "# Важно: координаты узлов могут минимально расходиться с координатами начала и концов ребер, поэтому свести по точному соответствию не получится.\n",
    "def csv_to_csv():\n",
    "    points_data = csv.reader(open('points.csv', 'r'), delimiter=';')\n",
    "    polylines_data = csv.reader(open('polylines.csv', 'r'), delimiter=';')\n",
    "\n",
    "csv_to_csv()\n",
    "# 3) Создать json-файл, состоящий из ребер графа. Каждое ребро должно иметь уникальный ID (например, номер по порядку), к которому должны быть привязаны данные о начальном узле (\"Source\"),\n",
    "# данные о конечном узле ребра (\"Target\"). Каждый узел в json должен содержать исходный id, long (долготу) и lat (широту).\n"
   ]
  }
 ],
 "metadata": {
  "kernelspec": {
   "display_name": "Python 3",
   "language": "python",
   "name": "python3"
  },
  "language_info": {
   "codemirror_mode": {
    "name": "ipython",
    "version": 3
   },
   "file_extension": ".py",
   "mimetype": "text/x-python",
   "name": "python",
   "nbconvert_exporter": "python",
   "pygments_lexer": "ipython3",
   "version": "3.8.3"
  }
 },
 "nbformat": 4,
 "nbformat_minor": 4
}
