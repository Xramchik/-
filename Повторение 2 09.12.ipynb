{
 "cells": [
  {
   "cell_type": "code",
   "execution_count": null,
   "metadata": {},
   "outputs": [],
   "source": [
    "'''1.Функция принимает два кортежа из двух элементов – координаты точек. Вывести уравнение прямой,\n",
    "проходящей через заданные точки. Функция должна вызывать ошибку, если переданные данные в нее некорректны \n",
    "(кортежи имеют не 2 элемента, типы данных не float и не integer)\n",
    "\n",
    "Реализовать функцию, которая вычисляет, \n",
    "сколько придется платить в месяц по кредиту и\n",
    "сколько всего отдать денег банку за весь период. \n",
    "Функция принимает обязательные аргументы m, s, p, n и необязательный параметр Boolean.\n",
    "Если необязательный параметр равен True, то функция возвращает ежемесячный платеж, иначе всю сумму.\n",
    "Функция должна иметь обработчик ошибок.\n",
    "\n",
    "2.Месячная выплата по займу вычисляется по такой загадочной формуле:\n",
    "m = (s * p * (1 + p)^n) / (12 * ((1 + p)^n – 1))\n",
    "В этой формуле:\n",
    "m - размер месячного платежа;\n",
    "s - сумма займа (кредита);\n",
    "p - процент банка, выраженный в долях единицы (т. е. если 20%, будет 0.2).\n",
    "n - количество лет, на которые берется кредит.\n",
    "\n",
    "\n",
    "3.даны два списка и необходимо найти их совпадающие элементы, то есть область пересечения списков - элементы, \n",
    "которые присутствуют в обоих списках. \n",
    "Дополнительно: реализовать при помощи генератора. \n",
    "Дополнительно2: реализовать при помощи анонимной функции\n",
    "\n",
    "4.Отсортировать слова в строке по возрастанию их длины. \n",
    "\n",
    "p = ()\n",
    "5.Реализовать при помощи лямбда функции\n",
    "Посчитать количество одинаковых элементов в списке. Результатом является словарь.\n",
    "Реализовать при помощи анонимной функции.'''\n",
    "''"
   ]
  },
  {
   "cell_type": "code",
   "execution_count": 8,
   "metadata": {},
   "outputs": [
    {
     "data": {
      "text/plain": [
       "'1y = 0x  + 14'"
      ]
     },
     "execution_count": 8,
     "metadata": {},
     "output_type": "execute_result"
    }
   ],
   "source": [
    "#1.Функция принимает два кортежа из двух элементов – координаты точек.\n",
    "#Вывести уравнение прямой,\n",
    "#проходящей через заданные точки.\n",
    "#Функция должна вызывать ошибку, если переданные данные в нее некорректны \n",
    "#(кортежи имеют не 2 элемента, типы данных не float и не integer)\n",
    "\n",
    "def line2D(point1,point2):\n",
    "    assert isinstance(point1, tuple) and isinstance(point2, tuple), 'Неверный тип данных'\n",
    "    assert len(point1) == 2 and len(point2) == 2, \"Кортеж должен иметь 2 элемента\"\n",
    "    \n",
    "    for i in point1:\n",
    "        if not (isinstance(i, float) or isinstance(i, int)):\n",
    "            raise TypeError('Некорректный тип данных в первом кортеже')\n",
    "    for i in point2:\n",
    "        if not (isinstance(i, float) or isinstance(i, int)):\n",
    "            raise TypeError('Некорректный тип данных во втором кортеже')\n",
    "    \n",
    "    x1 = point1[0]\n",
    "    y1 = point1[1]\n",
    "    x2 = point2[0]\n",
    "    y2 = point2[1]\n",
    "    ky = x1 - x2\n",
    "    kx = y1 - y2\n",
    "    b = x1*y2 - x2*y1\n",
    "    if b > 0:\n",
    "        return f'{ky}y = {kx}x  + {b}'\n",
    "    else:\n",
    "        return f'{ky}y = {kx}x  - {-b}'\n",
    "    \n",
    "    \n",
    "line2D((13,14),(12,14))"
   ]
  },
  {
   "cell_type": "code",
   "execution_count": 6,
   "metadata": {},
   "outputs": [
    {
     "ename": "NameError",
     "evalue": "name 'line2D' is not defined",
     "output_type": "error",
     "traceback": [
      "\u001b[1;31m---------------------------------------------------------------------------\u001b[0m",
      "\u001b[1;31mNameError\u001b[0m                                 Traceback (most recent call last)",
      "\u001b[1;32m<ipython-input-6-724bafe9cfbe>\u001b[0m in \u001b[0;36m<module>\u001b[1;34m\u001b[0m\n\u001b[1;32m----> 1\u001b[1;33m \u001b[0mline2D\u001b[0m\u001b[1;33m(\u001b[0m\u001b[1;33m(\u001b[0m\u001b[1;36m13\u001b[0m\u001b[1;33m,\u001b[0m\u001b[1;36m14\u001b[0m\u001b[1;33m,\u001b[0m\u001b[1;36m123\u001b[0m\u001b[1;33m)\u001b[0m\u001b[1;33m,\u001b[0m\u001b[1;33m(\u001b[0m\u001b[1;36m12\u001b[0m\u001b[1;33m,\u001b[0m\u001b[1;36m14\u001b[0m\u001b[1;33m)\u001b[0m\u001b[1;33m)\u001b[0m\u001b[1;33m\u001b[0m\u001b[1;33m\u001b[0m\u001b[0m\n\u001b[0m",
      "\u001b[1;31mNameError\u001b[0m: name 'line2D' is not defined"
     ]
    }
   ],
   "source": []
  },
  {
   "cell_type": "code",
   "execution_count": 53,
   "metadata": {},
   "outputs": [
    {
     "data": {
      "text/plain": [
       "3"
      ]
     },
     "execution_count": 53,
     "metadata": {},
     "output_type": "execute_result"
    }
   ],
   "source": [
    "'''Реализовать функцию, которая вычисляет, \n",
    "сколько придется платить в месяц по кредиту и \n",
    "сколько всего отдать денег банку за весь период. \n",
    "Функция принимает обязательные аргументы p, n и необязательный параметр Boolean \n",
    "и необязательные параметры m, s. \n",
    "Если необязательный параметр Boolean равен True, \n",
    "то функция возвращает ежемесячный платеж и обязательно принимает параметр s, \n",
    "иначе возвращает всю сумму и обязательно принимает параметр m. \n",
    "Если данные параметры не передаются, вызывать ошибку.\n",
    "Функция должна иметь обработчик ошибок\n",
    "\n",
    "2.Месячная выплата по займу вычисляется по такой загадочной формуле:\n",
    "m = (s * p * (1 + p)^n) / (12 * ((1 + p)^n – 1))\n",
    "В этой формуле:\n",
    "m - размер месячного платежа;\n",
    "s - сумма займа (кредита);\n",
    "p - процент банка, выраженный в долях единицы (т. е. если 20%, будет 0.2).\n",
    "n - количество лет, на которые берется кредит.'''\n",
    "\n",
    "\n",
    "def procent( m,s,p,n,month=True):\n",
    "    if month == True:\n",
    "            s = int(s)\n",
    "            \n",
    "            m = int((s * p * (1 + p)^n) / (12 * ((1 + p)^n - 1)))\n",
    "            return m\n",
    "\n",
    "    else: \n",
    "        m = int(m)\n",
    "        s = int(s)\n",
    "        s = int((12 * m * ((1 + p)^n - 1)) / (p * (1 + p)^n))\n",
    "        return s\n",
    "      \n",
    "    "
   ]
  },
  {
   "cell_type": "code",
   "execution_count": 22,
   "metadata": {},
   "outputs": [],
   "source": [
    "#3.даны два списка и необходимо найти их \n",
    "#совпадающие элементы, то есть область пересечения\n",
    "#списков - элементы, \n",
    "#которые присутствуют в обоих списках. \n",
    "#Дополнительно: реализовать при помощи генератора. \n",
    "#Дополнительно2: реализовать при помощи анонимной\n",
    "#функции\n"
   ]
  },
  {
   "cell_type": "code",
   "execution_count": 1,
   "metadata": {},
   "outputs": [
    {
     "data": {
      "text/plain": [
       "{'cvb', 'dfg'}"
      ]
     },
     "execution_count": 1,
     "metadata": {},
     "output_type": "execute_result"
    }
   ],
   "source": [
    "lst = ['dfg','rty','cvb']\n",
    "lst2 = ['dfg','cvb','asdfgh']\n",
    "lst = set(lst)\n",
    "lst2 = set(lst2)\n",
    "lst & lst2"
   ]
  },
  {
   "cell_type": "code",
   "execution_count": 4,
   "metadata": {},
   "outputs": [
    {
     "ename": "TypeError",
     "evalue": "sort() takes no positional arguments",
     "output_type": "error",
     "traceback": [
      "\u001b[1;31m---------------------------------------------------------------------------\u001b[0m",
      "\u001b[1;31mTypeError\u001b[0m                                 Traceback (most recent call last)",
      "\u001b[1;32m<ipython-input-4-36fe3454b1ed>\u001b[0m in \u001b[0;36m<module>\u001b[1;34m\u001b[0m\n\u001b[0;32m      1\u001b[0m \u001b[1;31m#4.Отсортировать слова в строке по возрастанию их длины.\u001b[0m\u001b[1;33m\u001b[0m\u001b[1;33m\u001b[0m\u001b[1;33m\u001b[0m\u001b[0m\n\u001b[0;32m      2\u001b[0m \u001b[0mlst2\u001b[0m \u001b[1;33m=\u001b[0m \u001b[0mlist\u001b[0m\u001b[1;33m(\u001b[0m\u001b[1;33m[\u001b[0m\u001b[1;34m'dfg'\u001b[0m\u001b[1;33m,\u001b[0m\u001b[1;34m'cvb'\u001b[0m\u001b[1;33m,\u001b[0m\u001b[1;34m'asdfgh'\u001b[0m\u001b[1;33m]\u001b[0m\u001b[1;33m)\u001b[0m\u001b[1;33m\u001b[0m\u001b[1;33m\u001b[0m\u001b[0m\n\u001b[1;32m----> 3\u001b[1;33m \u001b[0mlst2\u001b[0m\u001b[1;33m.\u001b[0m\u001b[0msort\u001b[0m\u001b[1;33m(\u001b[0m\u001b[1;32mlambda\u001b[0m \u001b[0mx\u001b[0m\u001b[1;33m,\u001b[0m\u001b[0my\u001b[0m\u001b[1;33m:\u001b[0m \u001b[0mlen\u001b[0m\u001b[1;33m(\u001b[0m\u001b[0mx\u001b[0m\u001b[1;33m)\u001b[0m \u001b[1;33m<\u001b[0m \u001b[0mlen\u001b[0m\u001b[1;33m(\u001b[0m\u001b[0my\u001b[0m\u001b[1;33m)\u001b[0m\u001b[1;33m)\u001b[0m\u001b[1;33m\u001b[0m\u001b[1;33m\u001b[0m\u001b[0m\n\u001b[0m\u001b[0;32m      4\u001b[0m \u001b[0mprint\u001b[0m\u001b[1;33m(\u001b[0m\u001b[0mlst2\u001b[0m\u001b[1;33m)\u001b[0m\u001b[1;33m\u001b[0m\u001b[1;33m\u001b[0m\u001b[0m\n",
      "\u001b[1;31mTypeError\u001b[0m: sort() takes no positional arguments"
     ]
    }
   ],
   "source": [
    "#4.Отсортировать слова в строке по возрастанию их длины. \n",
    "lst2 = ['dfg','cvb','asdfgh']\n",
    "lst2.sort(lambda x,y: len(x) < len(y))\n",
    "print(lst2)"
   ]
  },
  {
   "cell_type": "code",
   "execution_count": null,
   "metadata": {},
   "outputs": [],
   "source": []
  }
 ],
 "metadata": {
  "kernelspec": {
   "display_name": "Python 3",
   "language": "python",
   "name": "python3"
  },
  "language_info": {
   "codemirror_mode": {
    "name": "ipython",
    "version": 3
   },
   "file_extension": ".py",
   "mimetype": "text/x-python",
   "name": "python",
   "nbconvert_exporter": "python",
   "pygments_lexer": "ipython3",
   "version": "3.8.3"
  }
 },
 "nbformat": 4,
 "nbformat_minor": 4
}
