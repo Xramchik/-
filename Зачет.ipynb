{
 "cells": [
  {
   "cell_type": "markdown",
   "metadata": {},
   "source": [
    "### Вариант 1"
   ]
  },
  {
   "cell_type": "markdown",
   "metadata": {},
   "source": [
    "2) Реализовать анонимную функцию: Создать список, в котором все отрицательные числа исходного списка заменены на их номер в списке, остальные элементы сохранены на своих местах.\n",
    "\n",
    "Пример: [2, 4, -2, -3, 0 , 11 , 3, -1] -> [2, 4, 3, 4, 0, 11, 3, 8]"
   ]
  },
  {
   "cell_type": "markdown",
   "metadata": {},
   "source": [
    "3) Задача csv"
   ]
  },
  {
   "cell_type": "markdown",
   "metadata": {},
   "source": [
    "### Вариант 2"
   ]
  },
  {
   "cell_type": "markdown",
   "metadata": {},
   "source": [
    "2) Реализовать анонимную функцию armstrong_number, которая принимает число и проверяет является ли оно числом армстронга или нет.Числом Армстронга является число который равен сумме его цифр возведенных в степень их количества. Пример, 153 = 1^3 + 5^3 + 3^3"
   ]
  },
  {
   "cell_type": "code",
   "execution_count": 52,
   "metadata": {},
   "outputs": [
    {
     "name": "stdout",
     "output_type": "stream",
     "text": [
      "True\n"
     ]
    }
   ],
   "source": [
    "z = 0\n",
    "def armstrong_number1(x):\n",
    "    x = (str(x))\n",
    "    z = 0\n",
    "    for i in x:\n",
    "        y = len(str(x))\n",
    "        z = z + int(i)**int(y)\n",
    "    if z == int(x):\n",
    "        print(True)\n",
    "    else:\n",
    "        print(False)\n",
    "\n",
    "armstrong_number1(153)"
   ]
  },
  {
   "cell_type": "code",
   "execution_count": null,
   "metadata": {},
   "outputs": [],
   "source": [
    "armstrong_number =  lambda x,z:True if  x == z else False\n",
    "armstrong_number(armstrong_number1())"
   ]
  },
  {
   "cell_type": "code",
   "execution_count": 64,
   "metadata": {},
   "outputs": [
    {
     "data": {
      "text/plain": [
       "False"
      ]
     },
     "execution_count": 64,
     "metadata": {},
     "output_type": "execute_result"
    }
   ],
   "source": [
    "def armstrong_number1(x):\n",
    "    x = (str(x))\n",
    "    z = 0\n",
    "    for i in x:\n",
    "        y = len(str(x))\n",
    "        z = z + int(i)**int(y)\n",
    "    return x\n",
    "    return z\n",
    "armstrong_number =  lambda x,z:True if  x == z else False\n",
    "\n",
    "armstrong_number()"
   ]
  },
  {
   "cell_type": "markdown",
   "metadata": {},
   "source": [
    "3) Задача csv"
   ]
  },
  {
   "cell_type": "code",
   "execution_count": 35,
   "metadata": {},
   "outputs": [
    {
     "data": {
      "text/plain": [
       "153"
      ]
     },
     "execution_count": 35,
     "metadata": {},
     "output_type": "execute_result"
    }
   ],
   "source": [
    "x  = 153\n",
    "x = (str(x))\n",
    "for i in x:\n",
    "    y = len(str(x))\n",
    "    z = z + int(i)**int(y)\n",
    "\n",
    "for i in x:\n",
    "    y = len(str(x))\n",
    "    z = i**y\n",
    "\n",
    "if x == x**len(str(x)) else False\n",
    "armstrong_number =  lambda x,z:True if  x == z else False\n",
    "armstrong_number(armstrong_number1(input()))"
   ]
  },
  {
   "cell_type": "markdown",
   "metadata": {},
   "source": [
    "### Вариант 3"
   ]
  },
  {
   "cell_type": "markdown",
   "metadata": {},
   "source": [
    "2)Реализовать анонимную функцию: Даны числа N и M (задать их через переменные). С помощью генераторов в одну строку создать словарь, ключами в котором являются числа от 1 до N, а значениями - их степени от 0 до M. Например, для N=4, M=3 создать словарь:\n",
    "\n",
    "{1: [1, 1, 1, 1], 2: [1, 2, 4, 8], 3: [1, 3, 9, 27], 4: [1, 4, 16, 64]}"
   ]
  },
  {
   "cell_type": "markdown",
   "metadata": {},
   "source": [
    "3) Задача csv"
   ]
  },
  {
   "cell_type": "code",
   "execution_count": null,
   "metadata": {},
   "outputs": [],
   "source": []
  }
 ],
 "metadata": {
  "kernelspec": {
   "display_name": "Python 3",
   "language": "python",
   "name": "python3"
  },
  "language_info": {
   "codemirror_mode": {
    "name": "ipython",
    "version": 3
   },
   "file_extension": ".py",
   "mimetype": "text/x-python",
   "name": "python",
   "nbconvert_exporter": "python",
   "pygments_lexer": "ipython3",
   "version": "3.8.3"
  }
 },
 "nbformat": 4,
 "nbformat_minor": 2
}
